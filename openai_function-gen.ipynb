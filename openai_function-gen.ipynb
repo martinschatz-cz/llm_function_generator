{
 "cells": [
  {
   "cell_type": "code",
   "execution_count": 1,
   "id": "0d6660d5-9c91-4abc-9ee1-23be9b261b0a",
   "metadata": {},
   "outputs": [
    {
     "name": "stdout",
     "output_type": "stream",
     "text": [
      "Requirement already satisfied: openai in c:\\users\\martin\\.conda\\envs\\julab\\lib\\site-packages (1.56.0)\n",
      "Requirement already satisfied: anyio<5,>=3.5.0 in c:\\users\\martin\\.conda\\envs\\julab\\lib\\site-packages (from openai) (4.4.0)\n",
      "Requirement already satisfied: distro<2,>=1.7.0 in c:\\users\\martin\\.conda\\envs\\julab\\lib\\site-packages (from openai) (1.9.0)\n",
      "Requirement already satisfied: httpx<1,>=0.23.0 in c:\\users\\martin\\.conda\\envs\\julab\\lib\\site-packages (from openai) (0.27.0)\n",
      "Requirement already satisfied: jiter<1,>=0.4.0 in c:\\users\\martin\\.conda\\envs\\julab\\lib\\site-packages (from openai) (0.8.0)\n",
      "Requirement already satisfied: pydantic<3,>=1.9.0 in c:\\users\\martin\\.conda\\envs\\julab\\lib\\site-packages (from openai) (2.10.2)\n",
      "Requirement already satisfied: sniffio in c:\\users\\martin\\.conda\\envs\\julab\\lib\\site-packages (from openai) (1.3.1)\n",
      "Requirement already satisfied: tqdm>4 in c:\\users\\martin\\.conda\\envs\\julab\\lib\\site-packages (from openai) (4.67.1)\n",
      "Requirement already satisfied: typing-extensions<5,>=4.11 in c:\\users\\martin\\.conda\\envs\\julab\\lib\\site-packages (from openai) (4.12.2)\n",
      "Requirement already satisfied: idna>=2.8 in c:\\users\\martin\\.conda\\envs\\julab\\lib\\site-packages (from anyio<5,>=3.5.0->openai) (3.7)\n",
      "Requirement already satisfied: exceptiongroup>=1.0.2 in c:\\users\\martin\\.conda\\envs\\julab\\lib\\site-packages (from anyio<5,>=3.5.0->openai) (1.2.0)\n",
      "Requirement already satisfied: certifi in c:\\users\\martin\\.conda\\envs\\julab\\lib\\site-packages (from httpx<1,>=0.23.0->openai) (2024.6.2)\n",
      "Requirement already satisfied: httpcore==1.* in c:\\users\\martin\\.conda\\envs\\julab\\lib\\site-packages (from httpx<1,>=0.23.0->openai) (1.0.5)\n",
      "Requirement already satisfied: h11<0.15,>=0.13 in c:\\users\\martin\\.conda\\envs\\julab\\lib\\site-packages (from httpcore==1.*->httpx<1,>=0.23.0->openai) (0.14.0)\n",
      "Requirement already satisfied: annotated-types>=0.6.0 in c:\\users\\martin\\.conda\\envs\\julab\\lib\\site-packages (from pydantic<3,>=1.9.0->openai) (0.7.0)\n",
      "Requirement already satisfied: pydantic-core==2.27.1 in c:\\users\\martin\\.conda\\envs\\julab\\lib\\site-packages (from pydantic<3,>=1.9.0->openai) (2.27.1)\n",
      "Requirement already satisfied: colorama in c:\\users\\martin\\.conda\\envs\\julab\\lib\\site-packages (from tqdm>4->openai) (0.4.6)\n"
     ]
    }
   ],
   "source": [
    "!pip install --upgrade openai"
   ]
  },
  {
   "cell_type": "code",
   "execution_count": 2,
   "id": "370186c5-ccd6-4d91-8b88-750fe9ea3c64",
   "metadata": {},
   "outputs": [],
   "source": [
    "import openai\n",
    "\n",
    "# Define your OpenAI API key\n",
    "openai.api_key = \"sk-proj-\""
   ]
  },
  {
   "cell_type": "code",
   "execution_count": 20,
   "id": "04f3a0b3-ef8e-4827-96b6-9a586739d8f9",
   "metadata": {},
   "outputs": [],
   "source": [
    "def generate_python_function(task_description):\n",
    "    \"\"\"\n",
    "    Generates a Python function using the OpenAI API based on the provided task description.\n",
    "\n",
    "    Args:\n",
    "        task_description (str): Description of the task for which to generate the function.\n",
    "\n",
    "    Returns:\n",
    "        str: The generated Python function code as a string.\n",
    "    \"\"\"\n",
    "    # Dynamic prompt template with task description\n",
    "    prompt_template = f\"\"\"\n",
    "Write a Python function with a detailed docstring. \n",
    "The output should only be the code for a single function. Do not include anything else.\n",
    "\n",
    "Example task:\n",
    "Write a function that performs addition of two numbers.\n",
    "\n",
    "Result:\n",
    "def add_numbers(a: float, b: float) -> float:\n",
    "    \\\"\\\"\\\"\n",
    "    Add two numbers together.\n",
    "\n",
    "    Args:\n",
    "        a (float): The first number.\n",
    "        b (float): The second number.\n",
    "\n",
    "    Returns:\n",
    "        float: The sum of the two numbers.\n",
    "    \\\"\\\"\\\"\n",
    "    return a + b\n",
    "\n",
    "Task:\n",
    "{task_description}\"\"\"\n",
    "    # Use the new OpenAI API method\n",
    "    response = openai.chat.completions.create(\n",
    "        model=\"gpt-4\",\n",
    "        messages=[\n",
    "            {\n",
    "                \"role\": \"system\",\n",
    "                \"content\": \"You are a helpful assistant skilled at writing Python functions.\",\n",
    "            },\n",
    "            {\"role\": \"user\", \"content\": prompt_template},\n",
    "        ],\n",
    "        temperature=0.2,\n",
    "        max_tokens=150,\n",
    "        stop=[\"#\"],\n",
    "    )\n",
    "    # Extract content using dot notation\n",
    "    content = response.choices[\n",
    "        0\n",
    "    ].message.content  # .choices[0].message[\"content\"].strip()\n",
    "    return content"
   ]
  },
  {
   "cell_type": "code",
   "execution_count": 21,
   "id": "b1d79587-92f9-4c31-a8f9-a113b57a460b",
   "metadata": {},
   "outputs": [
    {
     "name": "stdout",
     "output_type": "stream",
     "text": [
      "def multiply_numbers(a: float, b: float) -> float:\n",
      "    \"\"\"\n",
      "    Multiply two numbers together.\n",
      "\n",
      "    Args:\n",
      "        a (float): The first number.\n",
      "        b (float): The second number.\n",
      "\n",
      "    Returns:\n",
      "        float: The product of the two numbers.\n",
      "    \"\"\"\n",
      "    return a * b\n"
     ]
    }
   ],
   "source": [
    "# Task description for the function\n",
    "task_description = \"Write a function that multiplies two numbers.\"\n",
    "\n",
    "# Generate the function\n",
    "generated_function = generate_python_function(task_description)\n",
    "\n",
    "# Print the generated function\n",
    "print(generated_function)"
   ]
  },
  {
   "cell_type": "code",
   "execution_count": 22,
   "id": "7464ed05-26dd-45ba-8c9c-12520fb0f862",
   "metadata": {},
   "outputs": [],
   "source": [
    "# Execute the function definition to make it available\n",
    "exec(generated_function)\n",
    "\n",
    "\n",
    "def test_multiply_numbers():\n",
    "    # Test cases for the multiply_numbers function\n",
    "    assert multiply_numbers(2, 3) == 6\n",
    "    assert multiply_numbers(-1, 5) == -5\n",
    "    assert multiply_numbers(0, 10) == 0\n",
    "    assert multiply_numbers(1.5, 2) == 3.0\n",
    "    assert multiply_numbers(-2, -3) == 6"
   ]
  },
  {
   "cell_type": "code",
   "execution_count": 32,
   "id": "63817a34-1195-4f77-bc2e-83cfe75774c0",
   "metadata": {},
   "outputs": [],
   "source": [
    "test_multiply_numbers()"
   ]
  },
  {
   "cell_type": "code",
   "execution_count": 31,
   "id": "f9d97a48-da11-47ad-baa1-4596862ceafb",
   "metadata": {},
   "outputs": [
    {
     "name": "stdout",
     "output_type": "stream",
     "text": [
      "def multiply_numbers(a: float, b: float) -> float:\n",
      "    \"\"\"\n",
      "    Multiply two numbers together.\n",
      "\n",
      "    Args:\n",
      "        a (float): The first number.\n",
      "        b (float): The second number.\n",
      "\n",
      "    Returns:\n",
      "        float: The product of the two numbers.\n",
      "    \"\"\"\n",
      "    return a * b\n"
     ]
    }
   ],
   "source": [
    "def generate_and_test_python_function(task_description):\n",
    "    generated_function = generate_python_function(task_description)\n",
    "\n",
    "    # Validate by executing the generated function\n",
    "    try:\n",
    "        # Execute the function definition\n",
    "        local_namespace = {}\n",
    "        exec(generated_function, globals(), local_namespace)\n",
    "\n",
    "        # Extract the function (assumes it's the only function defined)\n",
    "        function_name = list(local_namespace.keys())[0]\n",
    "        generated_func = local_namespace[function_name]\n",
    "\n",
    "        # Run test cases\n",
    "        if function_name == \"multiply_numbers\":\n",
    "            assert generated_func(2, 3) == 6\n",
    "            assert generated_func(-1, 5) == -5\n",
    "            assert generated_func(1.5, 2) == 3.0\n",
    "        return generated_function\n",
    "\n",
    "    except Exception as e:\n",
    "        raise Exception(f\"Generated function failed validation: {e}\")\n",
    "\n",
    "\n",
    "# Example Usage\n",
    "task_description = (\n",
    "    \"Write a function that multiplies two numbers. Name function multiply_numbers.\"\n",
    ")\n",
    "validated_function = generate_and_test_python_function(task_description)\n",
    "print(validated_function)"
   ]
  },
  {
   "cell_type": "code",
   "execution_count": null,
   "id": "9e4354f7-7583-4bbf-9499-2618f0ca0a1f",
   "metadata": {},
   "outputs": [],
   "source": []
  }
 ],
 "metadata": {
  "kernelspec": {
   "display_name": "Python (ollama_function_gen)",
   "language": "python",
   "name": "ollama_function_gen"
  },
  "language_info": {
   "codemirror_mode": {
    "name": "ipython",
    "version": 3
   },
   "file_extension": ".py",
   "mimetype": "text/x-python",
   "name": "python",
   "nbconvert_exporter": "python",
   "pygments_lexer": "ipython3",
   "version": "3.10.15"
  }
 },
 "nbformat": 4,
 "nbformat_minor": 5
}
